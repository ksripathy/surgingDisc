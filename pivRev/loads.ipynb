{
 "cells": [
  {
   "cell_type": "markdown",
   "metadata": {},
   "source": [
    "# Load estimation framework\n",
    "\n",
    "## Base libraries"
   ]
  },
  {
   "cell_type": "code",
   "execution_count": 1,
   "metadata": {},
   "outputs": [],
   "source": [
    "#Base libraries\n",
    "import numpy as np\n",
    "import matplotlib.pyplot as plt\n",
    "import os\n",
    "\n",
    "#Configuring relative file locations\n",
    "homeDir = os.path.abspath(\"\")\n",
    "srcDir = os.path.join(homeDir,\"src\")\n",
    "plotDir = os.path.join(homeDir,\"plots\")\n",
    "dataDir = os.path.join(homeDir,\"data\")\n",
    "\n",
    "#Derived libraries\n",
    "from src.pivFieldsNB import planarPIVField\n",
    "from src.pivFramesNB import pivFrames2D"
   ]
  },
  {
   "cell_type": "markdown",
   "metadata": {},
   "source": [
    "## Importing data from tecPlot files\n",
    "\n",
    "**planarPIVFields** class stages tecPlot data files, identifies the individual frames in it and converts them into a numpy array. Data from multiple frames is stored in **frameTecData** attribute. "
   ]
  },
  {
   "cell_type": "code",
   "execution_count": 2,
   "metadata": {},
   "outputs": [],
   "source": [
    "#import tecplot and w-tunnel log files\n",
    "tecPlotFilePath = dataDir + \"/p45MeanCase06Phase00.dat\"\n",
    "logFilePath = dataDir + \"/p45LogCase06Phase00.txt\"\n",
    "\n",
    "#Disc centre location. Obtained by eye-balling its location from raw piv images\n",
    "discXc = 25.683\n",
    "discYc = 8.069\n",
    "\n",
    "field = planarPIVField(tecPlotFilePath, logFilePath, discXc, discYc)\n",
    "\n",
    "frame0TecData = field.framesTecData[0]\n",
    "frame1TecData = field.framesTecData[1]"
   ]
  },
  {
   "cell_type": "markdown",
   "metadata": {},
   "source": [
    "## Reorganization of tecPlot Data\n",
    "\n",
    "Data in tecPlot files is stored in the form of 1D array for each attribute. **pivFrames2D** will be used for translating 1D array data into 2D grid structure."
   ]
  },
  {
   "cell_type": "code",
   "execution_count": 4,
   "metadata": {},
   "outputs": [
    {
     "data": {
      "text/plain": [
       "['VInf',\n",
       " '__class__',\n",
       " '__delattr__',\n",
       " '__dict__',\n",
       " '__dir__',\n",
       " '__doc__',\n",
       " '__eq__',\n",
       " '__format__',\n",
       " '__ge__',\n",
       " '__getattribute__',\n",
       " '__gt__',\n",
       " '__hash__',\n",
       " '__init__',\n",
       " '__init_subclass__',\n",
       " '__le__',\n",
       " '__lt__',\n",
       " '__module__',\n",
       " '__ne__',\n",
       " '__new__',\n",
       " '__reduce__',\n",
       " '__reduce_ex__',\n",
       " '__repr__',\n",
       " '__setattr__',\n",
       " '__sizeof__',\n",
       " '__str__',\n",
       " '__subclasshook__',\n",
       " '__weakref__',\n",
       " 'combineFrames',\n",
       " 'fillDiscMask',\n",
       " 'framesCols',\n",
       " 'framesRows',\n",
       " 'framesTecData',\n",
       " 'getDiscMask',\n",
       " 'getDiscVel',\n",
       " 'getFrameSize',\n",
       " 'getIndVelExtp',\n",
       " 'getIndVelIntp',\n",
       " 'getIndVelRaw',\n",
       " 'getRBFMask',\n",
       " 'getRBFMask2',\n",
       " 'getRBFMask3',\n",
       " 'readTecFile',\n",
       " 'rhoInf']"
      ]
     },
     "execution_count": 4,
     "metadata": {},
     "output_type": "execute_result"
    }
   ],
   "source": [
    "dir(field)"
   ]
  },
  {
   "cell_type": "markdown",
   "metadata": {},
   "source": [
    "**pivFrames2D** class extracts data from tecPlot data files and reorganizes into 2D grid structure. Following fields are extracted: x, y, Vx, Vy, V, Wz, $\\sigma(V_x)$, $\\sigma(V_y)$ and DaVis mask."
   ]
  }
 ],
 "metadata": {
  "kernelspec": {
   "display_name": "devEnv",
   "language": "python",
   "name": "python3"
  },
  "language_info": {
   "codemirror_mode": {
    "name": "ipython",
    "version": 3
   },
   "file_extension": ".py",
   "mimetype": "text/x-python",
   "name": "python",
   "nbconvert_exporter": "python",
   "pygments_lexer": "ipython3",
   "version": "3.10.12"
  }
 },
 "nbformat": 4,
 "nbformat_minor": 2
}
