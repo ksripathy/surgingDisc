{
 "cells": [
  {
   "cell_type": "code",
   "execution_count": 2,
   "metadata": {},
   "outputs": [
    {
     "data": {
      "text/html": [
       "<style>pre { white-space: pre !important; }</style>"
      ],
      "text/plain": [
       "<IPython.core.display.HTML object>"
      ]
     },
     "metadata": {},
     "output_type": "display_data"
    }
   ],
   "source": [
    "#Base libraries\n",
    "import numpy as np\n",
    "import matplotlib.pyplot as plt\n",
    "import matplotlib as mpl\n",
    "import os\n",
    "from copy import deepcopy\n",
    "import inspect\n",
    "import fnmatch\n",
    "\n",
    "from scipy.interpolate import NearestNDInterpolator\n",
    "from scipy.interpolate import RegularGridInterpolator\n",
    "from numpy.ma import masked_array\n",
    "from scipy.interpolate import CubicSpline\n",
    "from scipy import signal\n",
    "\n",
    "from IPython.display import display, HTML\n",
    "display(HTML(\"<style>pre { white-space: pre !important; }</style>\"))\n",
    "\n",
    "from contourpy import contour_generator\n",
    "from matplotlib.colors import BoundaryNorm\n",
    "\n",
    "#Configuring relative file locations\n",
    "homeDir = os.path.abspath(\"\")\n",
    "srcDir = os.path.join(homeDir,\"src\")\n",
    "plotDir = os.path.join(homeDir,\"plots\")\n",
    "dataDir = os.path.join(homeDir,\"data\")"
   ]
  },
  {
   "cell_type": "code",
   "execution_count": 3,
   "metadata": {},
   "outputs": [],
   "source": [
    "#piv data structure definition\n",
    "\n",
    "class planar_piv_data:\n",
    "    \"\"\"A class representing planar PIV data.\n",
    "    Attributes:\n",
    "    - deflt_grid_x: numpy.ndarray\n",
    "        The default grid x-coordinates.\n",
    "    - deflt_grid_z: numpy.ndarray\n",
    "        The default grid z-coordinates.\n",
    "    - grid_x: numpy.ndarray\n",
    "        The grid x-coordinates.\n",
    "    - grid_z: numpy.ndarray\n",
    "        The grid z-coordinates.\n",
    "    - deflt_grid_v_x: numpy.ndarray\n",
    "        The default grid x-velocity.\n",
    "    - grid_v_x: numpy.ndarray\n",
    "        The grid x-velocity.\n",
    "    - grid_v_z: numpy.ndarray\n",
    "        The grid z-velocity.\n",
    "    - grid_v_mag: numpy.ndarray\n",
    "        The grid velocity magnitude.\n",
    "    - grid_omega_y: numpy.ndarray\n",
    "        The grid y-vorticity.\n",
    "    - grid_omega_mag: numpy.ndarray\n",
    "        The grid vorticity magnitude.\n",
    "    - grid_r_xx: numpy.ndarray\n",
    "        The grid xx Reynolds stress.\n",
    "    - grid_r_xz: numpy.ndarray\n",
    "        The grid xz Reynolds stress.\n",
    "    - grid_r_zz: numpy.ndarray\n",
    "        The grid zz Reynolds stress.\n",
    "    - grid_std_v_x: numpy.ndarray\n",
    "        The grid x-velocity standard deviation.\n",
    "    - grid_std_v_z: numpy.ndarray\n",
    "        The grid z-velocity standard deviation.\n",
    "    - grid_valid_cell: numpy.ndarray\n",
    "        The grid valid cell mask.\n",
    "    Methods:\n",
    "    - __init__(frame_i, frame_j, frame_data)\n",
    "        Initializes the planar_piv_data object.\n",
    "    - corr_frame(x_corr, z_corr, mode=\"absolute\")\n",
    "        Adjusts the grid_x and grid_z coordinates based on the given correction values.\n",
    "    - reorient_frame(disc_xc, disc_zc)\n",
    "        Reorients the frame of the grid by subtracting the given disc_xc and disc_zc values.\n",
    "    - gen_data_intpr()\n",
    "        Generates interpolated data for the object.\n",
    "    \"\"\"\n",
    "      \n",
    "    \n",
    "    def __init__(self, frame_i, frame_j, frame_data):\n",
    "        \"\"\"\n",
    "        Initializes the grid and velocity data for the given frames.\n",
    "        Parameters:\n",
    "        frame_i (int): Number of rows in the grid.\n",
    "        frame_j (int): Number of columns in the grid.\n",
    "        frame_data (numpy.ndarray): Array containing the grid and velocity data. \n",
    "            The array is expected to have the following columns:\n",
    "            - Column 0: x-coordinates of the grid points.\n",
    "            - Column 1: z-coordinates of the grid points.\n",
    "            - Column 2: x-components of the velocity at the grid points.\n",
    "            - Column 3: z-components of the velocity at the grid points.\n",
    "            - Column 4: Magnitude of the velocity at the grid points.\n",
    "            - Column 5: y-components of the vorticity at the grid points.\n",
    "            - Column 6: Magnitude of the vorticity at the grid points.\n",
    "            - Column 7: xx-components of the Reynolds stress at the grid points.\n",
    "            - Column 8: xz-components of the Reynolds stress at the grid points.\n",
    "            - Column 9: zz-components of the Reynolds stress at the grid points.\n",
    "            - Column 10: Standard deviation of the x-components of the velocity.\n",
    "            - Column 11: Standard deviation of the z-components of the velocity.\n",
    "            - Column 12: Validity of the grid cells (boolean).\n",
    "        \"\"\"\n",
    "        \n",
    "        self.deflt_grid_x = frame_data[:,0].reshape(frame_i, frame_j, order='F')\n",
    "        self.deflt_grid_z = frame_data[:,1].reshape(frame_i, frame_j, order='F')\n",
    "        self.grid_x  = deepcopy(self.deflt_grid_x)\n",
    "        self.grid_z = deepcopy(self.deflt_grid_z)\n",
    "        self.deflt_grid_v_x = frame_data[:,2].reshape(frame_i, frame_j, order='F')\n",
    "        self.grid_v_x = deepcopy(self.deflt_grid_v_x)\n",
    "        self.grid_v_z = frame_data[:,3].reshape(frame_i, frame_j, order='F')\n",
    "        self.grid_v_mag = frame_data[:,4].reshape(frame_i, frame_j, order='F')\n",
    "        self.grid_omega_y = frame_data[:,5].reshape(frame_i, frame_j, order='F')\n",
    "        self.grid_omega_mag = frame_data[:,6].reshape(frame_i, frame_j, order='F')\n",
    "        self.grid_r_xx = frame_data[:,7].reshape(frame_i, frame_j, order='F')\n",
    "        self.grid_r_xz = frame_data[:,8].reshape(frame_i, frame_j, order='F')\n",
    "        self.grid_r_zz = frame_data[:,9].reshape(frame_i, frame_j, order='F')\n",
    "        self.grid_std_v_x = frame_data[:,10].reshape(frame_i, frame_j, order='F')\n",
    "        self.grid_std_v_z = frame_data[:,11].reshape(frame_i, frame_j, order='F')\n",
    "        self.grid_valid_cell = frame_data[:,12].reshape(frame_i, frame_j, order='F').astype(bool)\n",
    "        \n",
    "    def corr_frame(self, x_corr, z_corr, mode = \"absolute\"):\n",
    "        \"\"\"\n",
    "        Adjusts the grid_x and grid_z coordinates based on the given x_corr and z_corr values.\n",
    "        Parameters:\n",
    "        - x_corr: float or int\n",
    "            The correction value to be added to the grid_x coordinates.\n",
    "        - z_corr: float or int\n",
    "            The correction value to be added to the grid_z coordinates.\n",
    "        - mode: str, optional (default: \"absolute\")\n",
    "            The mode of correction. It can be either \"absolute\" or \"relative\".\n",
    "            - \"absolute\": Adds the correction values directly to the resetted grid_x and grid_z coordinates.\n",
    "            - \"relative\": Adds the correction values to the existing grid_x and grid_z coordinates.\n",
    "        Returns:\n",
    "        None\n",
    "        \"\"\"\n",
    "            \n",
    "        if mode == \"absolute\":\n",
    "            \n",
    "            self.grid_x = deepcopy(self.deflt_grid_x)\n",
    "            self.grid_z = deepcopy(self.deflt_grid_z)\n",
    "            \n",
    "            self.grid_x += x_corr\n",
    "            self.grid_z += z_corr\n",
    "            \n",
    "        elif mode == \"relative\":\n",
    "            \n",
    "            self.grid_x += x_corr\n",
    "            self.grid_z += z_corr\n",
    "        \n",
    "    def reorient_frame(self, disc_xc, disc_zc):\n",
    "        \"\"\"\n",
    "        Reorients the frame of the grid by subtracting the given disc_xc and disc_zc values from the grid coordinates.\n",
    "        Then, it multiplies the grid_x and grid_v_x values by -1, and divides the grid_x and grid_z values by 200.\n",
    "        Parameters:\n",
    "        - disc_xc: The x-coordinate of the disc\n",
    "        - disc_zc: The z-coordinate of the disc\n",
    "        \"\"\"\n",
    "        \n",
    "        self.grid_x = deepcopy(self.deflt_grid_x)\n",
    "        self.grid_z = deepcopy(self.deflt_grid_z)\n",
    "        self.grid_v_x = deepcopy(self.deflt_grid_v_x)\n",
    "               \n",
    "        self.grid_x -= disc_xc\n",
    "        self.grid_z -= disc_zc\n",
    "        \n",
    "        self.grid_x *= -1\n",
    "        self.grid_v_x *= -1\n",
    "        self.grid_x /= 200\n",
    "        self.grid_z /= 200\n",
    "        \n",
    "    def set_disc_mask(self, x_min, x_max, z_min, z_max):\n",
    "        \n",
    "        self.disc_mask = np.logical_and(np.logical_and(self.grid_x >= x_min, self.grid_x <= x_max), np.logical_and(self.grid_z >= z_min, self.grid_z <= z_max))\n",
    "        \n",
    "    def gen_data_intpr(self):\n",
    "        \"\"\"\n",
    "        Generate interpolated data for the given object.\n",
    "        This method checks if the interpolated data already exists for the object. If it does, the interpolation is skipped.\n",
    "        Otherwise, it interpolates the dependent data using the NearestNDInterpolator.\n",
    "        Parameters:\n",
    "        - self: The object instance.\n",
    "        Returns:\n",
    "        - None\n",
    "        \"\"\"\n",
    "                \n",
    "        for name, value in inspect.getmembers(self):\n",
    "            \n",
    "            if fnmatch.fnmatch(name, \"grid*intpr\"): \n",
    "                return\n",
    "        \n",
    "        for name, value in inspect.getmembers(self):\n",
    "            \n",
    "            if fnmatch.fnmatch(name, \"grid*\") and name != \"grid_x\" and name != \"grid_z\" and name != \"grid_valid_cell\":\n",
    "            \n",
    "                setattr(self, name + \"_intpr\", NearestNDInterpolator((self.grid_x.flatten(), self.grid_z.flatten()), getattr(self, name).flatten()))\n",
    "                \n",
    "def read_planar_piv_data(file_path):\n",
    "    \"\"\"\n",
    "    Reads planar PIV data from a file and returns the data for two frames.\n",
    "    Parameters:\n",
    "    - file_path (str): The path to the file containing the PIV data.\n",
    "    Returns:\n",
    "    - tuple: A tuple containing two planar_piv_data objects, one for each frame.\n",
    "    \"\"\"\n",
    "    \n",
    "    frame0_grid_info = open(file_path).readlines()[2].split(\",\")\n",
    "    \n",
    "    frame0_plane_i = int(frame0_grid_info[1].split(\"=\")[1])\n",
    "    frame0_plane_j = int(frame0_grid_info[2].split(\"=\")[1])\n",
    "    \n",
    "    frame0_data = np.loadtxt(file_path, skiprows=4, max_rows=frame0_plane_i * frame0_plane_j)\n",
    "    \n",
    "    frame1_grid_info = open(file_path).readlines()[(frame0_plane_i * frame0_plane_j) + 5].split(\",\")\n",
    "    \n",
    "    frame1_plane_i = int(frame1_grid_info[1].split(\"=\")[1])\n",
    "    frame1_plane_j = int(frame1_grid_info[2].split(\"=\")[1])\n",
    "    \n",
    "    frame1_data = np.loadtxt(file_path, skiprows=(frame0_plane_i * frame0_plane_j) + 7, max_rows=frame1_plane_i * frame1_plane_j)\n",
    "    \n",
    "    return planar_piv_data(frame0_plane_i, frame0_plane_j, frame0_data), planar_piv_data(frame1_plane_i, frame1_plane_j, frame1_data)"
   ]
  },
  {
   "cell_type": "code",
   "execution_count": 4,
   "metadata": {},
   "outputs": [],
   "source": [
    "# freestream velocity piv data\n",
    "\n",
    "frame0_x_corr = -7.513\n",
    "frame0_z_corr = 2.944\n",
    "\n",
    "piv_pixel_pitch = 5.995\n",
    "piv_window_size = 32\n",
    "piv_overlap = 0.75\n",
    "piv_frame_res = round((piv_window_size * (1 - piv_overlap) / piv_pixel_pitch),3)\n",
    "\n",
    "piv_disc_xc = 35.878\n",
    "piv_disc_zc = 1.601\n",
    "\n",
    "piv_rho_inf = 1.195\n",
    "\n",
    "piv_vinf_3_frame0, piv_vinf_3_frame1 = read_planar_piv_data(dataDir + \"/surge_disc_2023_reprocess/freestream_vinf_3_0001.dat\")\n",
    "piv_vinf_2_frame0, piv_vinf_2_frame1 = read_planar_piv_data(dataDir + \"/surge_disc_2023_reprocess/freestream_vinf_2_0001.dat\")\n",
    "\n",
    "piv_vinf_3 = 0.5 * (piv_vinf_3_frame0.grid_v_mag[80:160,90:180].mean() + piv_vinf_3_frame1.grid_v_mag[80:160,90:180].mean()).round(3)\n",
    "piv_vinf_2 = 0.5 * (piv_vinf_2_frame0.grid_v_mag[80:160,90:180].mean() + piv_vinf_2_frame1.grid_v_mag[80:160,90:180].mean()).round(3)"
   ]
  },
  {
   "cell_type": "code",
   "execution_count": 5,
   "metadata": {},
   "outputs": [],
   "source": [
    "#Disc p70 import and condition data\n",
    "\n",
    "piv_p70_case_06_phase_00_frame0, piv_p70_case_06_phase_00_frame1 = read_planar_piv_data(dataDir + \"/surge_disc_2023_reprocess/p70_case_06_phase_00_0001.dat\")\n",
    "piv_p70_case_06_phase_00_frame0.corr_frame(frame0_x_corr, frame0_z_corr)\n",
    "piv_p70_case_06_phase_00_frame0.reorient_frame(piv_disc_xc, piv_disc_zc)\n",
    "piv_p70_case_06_phase_00_frame0.gen_data_intpr()\n",
    "\n",
    "piv_p70_case_06_phase_00_frame1.reorient_frame(piv_disc_xc, piv_disc_zc)\n",
    "piv_p70_case_06_phase_00_frame1.set_disc_mask(-0.05,0.15,-0.55,0.55)"
   ]
  },
  {
   "cell_type": "code",
   "execution_count": 10,
   "metadata": {},
   "outputs": [
    {
     "data": {
      "text/plain": [
       "2.1605"
      ]
     },
     "execution_count": 10,
     "metadata": {},
     "output_type": "execute_result"
    }
   ],
   "source": [
    "np.max(piv_p70_case_06_phase_00_frame0.grid_x)"
   ]
  },
  {
   "cell_type": "code",
   "execution_count": 6,
   "metadata": {},
   "outputs": [
    {
     "data": {
      "image/png": "[encoded data removed]",
      "text/plain": [
       "<Figure size 640x480 with 1 Axes>"
      ]
     },
     "metadata": {},
     "output_type": "display_data"
    }
   ],
   "source": [
    "plt.contourf(piv_p70_case_06_phase_00_frame1.grid_x, piv_p70_case_06_phase_00_frame1.grid_z, piv_p70_case_06_phase_00_frame1.grid_v_x/piv_vinf_3, norm = mpl.colors.TwoSlopeNorm(vmin=0.7, vcenter=1.0, vmax=1.1), levels=np.linspace(0.7,1.1,5), cmap='coolwarm')\n",
    "plt.gca().set_aspect('equal')"
   ]
  },
  {
   "cell_type": "code",
   "execution_count": null,
   "metadata": {},
   "outputs": [
    {
     "data": {
      "text/plain": [
       "<matplotlib.contour.QuadContourSet at 0x71c31041b830>"
      ]
     },
     "execution_count": 7,
     "metadata": {},
     "output_type": "execute_result"
    },
    {
     "data": {
      "image/png": "[encoded data removed]",
      "text/plain": [
       "<Figure size 640x480 with 1 Axes>"
      ]
     },
     "metadata": {},
     "output_type": "display_data"
    }
   ],
   "source": [
    "grid_v_x_masked = masked_array(piv_p70_case_06_phase_00_frame1.grid_v_x, mask = piv_p70_case_06_phase_00_frame1.disc_mask)\n",
    "plt.contourf(piv_p70_case_06_phase_00_frame1.grid_x[20:,:], piv_p70_case_06_phase_00_frame1.grid_z[10:,:], grid_v_x_masked[10:,:]/piv_vinf_3, norm = mpl.colors.TwoSlopeNorm(vmin=0.7, vcenter=1.0, vmax=1.1), levels=np.linspace(0.7,1.1,5), cmap='coolwarm')"
   ]
  },
  {
   "cell_type": "code",
   "execution_count": 82,
   "metadata": {},
   "outputs": [
    {
     "data": {
      "image/png": "[encoded data removed]",
      "text/plain": [
       "<Figure size 640x480 with 1 Axes>"
      ]
     },
     "metadata": {},
     "output_type": "display_data"
    }
   ],
   "source": [
    "from scipy.interpolate import griddata\n",
    "\n",
    "# Get the coordinates of the valid data points\n",
    "valid_points = np.array((piv_p70_case_06_phase_00_frame1.grid_x[~piv_p70_case_06_phase_00_frame1.disc_mask],\n",
    "                         piv_p70_case_06_phase_00_frame1.grid_z[~piv_p70_case_06_phase_00_frame1.disc_mask])).T\n",
    "\n",
    "# Get the values of the valid data points\n",
    "valid_values = piv_p70_case_06_phase_00_frame1.grid_v_x[~piv_p70_case_06_phase_00_frame1.disc_mask]\n",
    "\n",
    "# Get the coordinates of the masked data points\n",
    "masked_points = np.array((piv_p70_case_06_phase_00_frame1.grid_x[piv_p70_case_06_phase_00_frame1.disc_mask],\n",
    "                          piv_p70_case_06_phase_00_frame1.grid_z[piv_p70_case_06_phase_00_frame1.disc_mask])).T\n",
    "\n",
    "# Perform the interpolation\n",
    "interpolated_values = griddata(valid_points, valid_values, masked_points, method='linear')\n",
    "\n",
    "# Fill the masked values with the interpolated values\n",
    "grid_v_x_filled = piv_p70_case_06_phase_00_frame1.grid_v_x.copy()\n",
    "grid_v_x_filled[piv_p70_case_06_phase_00_frame1.disc_mask] = interpolated_values\n",
    "\n",
    "# Plot the filled data\n",
    "plt.contourf(piv_p70_case_06_phase_00_frame1.grid_x, piv_p70_case_06_phase_00_frame1.grid_z, grid_v_x_filled/piv_vinf_3, norm=mpl.colors.TwoSlopeNorm(vmin=0.7, vcenter=1.0, vmax=1.1), levels=np.linspace(0.7, 1.1, 5), cmap='coolwarm')\n",
    "plt.gca().set_aspect('equal')\n",
    "plt.show()"
   ]
  }
 ],
 "metadata": {
  "kernelspec": {
   "display_name": "omniwind-2410",
   "language": "python",
   "name": "python3"
  },
  "language_info": {
   "codemirror_mode": {
    "name": "ipython",
    "version": 3
   },
   "file_extension": ".py",
   "mimetype": "text/x-python",
   "name": "python",
   "nbconvert_exporter": "python",
   "pygments_lexer": "ipython3",
   "version": "3.12.7"
  }
 },
 "nbformat": 4,
 "nbformat_minor": 2
}
